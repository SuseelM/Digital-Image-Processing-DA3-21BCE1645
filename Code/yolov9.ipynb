{
 "cells": [
  {
   "cell_type": "code",
   "execution_count": 1,
   "metadata": {},
   "outputs": [
    {
     "name": "stdout",
     "output_type": "stream",
     "text": [
      "True\n",
      "0\n"
     ]
    }
   ],
   "source": [
    "import torch\n",
    "from ultralytics import YOLO\n",
    "print(torch.cuda.is_available())\n",
    "print(torch.cuda.max_memory_allocated(device=0))"
   ]
  },
  {
   "cell_type": "code",
   "execution_count": 2,
   "metadata": {},
   "outputs": [
    {
     "data": {
      "text/plain": [
       "'2.4.1'"
      ]
     },
     "execution_count": 2,
     "metadata": {},
     "output_type": "execute_result"
    }
   ],
   "source": [
    "import torch;\n",
    "torch.__version__\n"
   ]
  },
  {
   "cell_type": "code",
   "execution_count": 5,
   "metadata": {},
   "outputs": [
    {
     "data": {
      "text/plain": [
       "'d:\\\\Downloads - upto 21-6-2024\\\\Wrist Dataset'"
      ]
     },
     "execution_count": 5,
     "metadata": {},
     "output_type": "execute_result"
    }
   ],
   "source": [
    "pwd"
   ]
  },
  {
   "cell_type": "markdown",
   "metadata": {},
   "source": [
    "Code to train a model:"
   ]
  },
  {
   "cell_type": "code",
   "execution_count": null,
   "metadata": {},
   "outputs": [],
   "source": [
    "model = YOLO(\"yolov10x.pt\")\n",
    "model.info()\n",
    "model.train(data=\"yolov9_data.yaml\", epochs=30, imgsz=640, batch=16)"
   ]
  },
  {
   "cell_type": "code",
   "execution_count": null,
   "metadata": {},
   "outputs": [],
   "source": [
    "model.export(format=\"pt\")"
   ]
  },
  {
   "cell_type": "code",
   "execution_count": null,
   "metadata": {},
   "outputs": [],
   "source": [
    "results = model(\"C:/Users/Suseel's PC/Downloads/Wrist Dataset/datasets/images/Val/4906_0441962649_01_WRI-L1_M014.png\")"
   ]
  },
  {
   "cell_type": "markdown",
   "metadata": {},
   "source": [
    "Code for Prediction of Individual Images:"
   ]
  },
  {
   "cell_type": "code",
   "execution_count": 5,
   "metadata": {},
   "outputs": [
    {
     "name": "stderr",
     "output_type": "stream",
     "text": [
      "<>:2: SyntaxWarning: invalid escape sequence '\\D'\n",
      "<>:2: SyntaxWarning: invalid escape sequence '\\D'\n",
      "C:\\Users\\Suseel's PC\\AppData\\Local\\Temp\\ipykernel_35596\\3096087785.py:2: SyntaxWarning: invalid escape sequence '\\D'\n",
      "  model.predict(\"C://Users//Suseel's PC//OneDrive\\Documents\\Bonescan\\Bonescan\\Project_DA 2\\Images//0160_0598179425_01_WRI-L1_F009.png\", save=True, imgsz=320, conf=0.5)\n"
     ]
    },
    {
     "name": "stdout",
     "output_type": "stream",
     "text": [
      "\n",
      "image 1/1 C:\\Users\\Suseel's PC\\OneDrive\\Documents\\Bonescan\\Bonescan\\Project_DA 2\\Images\\0160_0598179425_01_WRI-L1_F009.png: 320x224 2 fractures, 1 text, 192.3ms\n",
      "Speed: 8.4ms preprocess, 192.3ms inference, 871.5ms postprocess per image at shape (1, 3, 320, 224)\n",
      "Results saved to \u001b[1mruns\\detect\\predict8\u001b[0m\n"
     ]
    },
    {
     "data": {
      "text/plain": [
       "[ultralytics.engine.results.Results object with attributes:\n",
       " \n",
       " boxes: ultralytics.engine.results.Boxes object\n",
       " keypoints: None\n",
       " masks: None\n",
       " names: {0: 'boneanomaly', 1: 'bonelesion', 2: 'foreignbody', 3: 'fracture', 4: 'metal', 5: 'periostealreaction', 6: 'pronatorsign', 7: 'softtissue', 8: 'text'}\n",
       " obb: None\n",
       " orig_img: array([[[0, 0, 0],\n",
       "         [0, 0, 0],\n",
       "         [0, 0, 0],\n",
       "         ...,\n",
       "         [0, 0, 0],\n",
       "         [0, 0, 0],\n",
       "         [0, 0, 0]],\n",
       " \n",
       "        [[0, 0, 0],\n",
       "         [0, 0, 0],\n",
       "         [0, 0, 0],\n",
       "         ...,\n",
       "         [0, 0, 0],\n",
       "         [0, 0, 0],\n",
       "         [0, 0, 0]],\n",
       " \n",
       "        [[0, 0, 0],\n",
       "         [0, 0, 0],\n",
       "         [0, 0, 0],\n",
       "         ...,\n",
       "         [0, 0, 0],\n",
       "         [0, 0, 0],\n",
       "         [0, 0, 0]],\n",
       " \n",
       "        ...,\n",
       " \n",
       "        [[0, 0, 0],\n",
       "         [0, 0, 0],\n",
       "         [0, 0, 0],\n",
       "         ...,\n",
       "         [0, 0, 0],\n",
       "         [0, 0, 0],\n",
       "         [0, 0, 0]],\n",
       " \n",
       "        [[0, 0, 0],\n",
       "         [0, 0, 0],\n",
       "         [0, 0, 0],\n",
       "         ...,\n",
       "         [0, 0, 0],\n",
       "         [0, 0, 0],\n",
       "         [0, 0, 0]],\n",
       " \n",
       "        [[0, 0, 0],\n",
       "         [0, 0, 0],\n",
       "         [0, 0, 0],\n",
       "         ...,\n",
       "         [0, 0, 0],\n",
       "         [0, 0, 0],\n",
       "         [0, 0, 0]]], dtype=uint8)\n",
       " orig_shape: (1013, 676)\n",
       " path: \"C:\\\\Users\\\\Suseel's PC\\\\OneDrive\\\\Documents\\\\Bonescan\\\\Bonescan\\\\Project_DA 2\\\\Images\\\\0160_0598179425_01_WRI-L1_F009.png\"\n",
       " probs: None\n",
       " save_dir: 'runs\\\\detect\\\\predict8'\n",
       " speed: {'preprocess': 8.426904678344727, 'inference': 192.25144386291504, 'postprocess': 871.5040683746338}]"
      ]
     },
     "execution_count": 5,
     "metadata": {},
     "output_type": "execute_result"
    }
   ],
   "source": [
    "model = YOLO(\"best.pt\")\n",
    "model.predict(\"C://Users//Suseel's PC//OneDrive\\Documents\\Bonescan\\Bonescan\\Project_DA 2\\Images//0160_0598179425_01_WRI-L1_F009.png\", save=True, imgsz=320, conf=0.5)"
   ]
  },
  {
   "cell_type": "code",
   "execution_count": null,
   "metadata": {},
   "outputs": [],
   "source": [
    "model = YOLO(\"best.pt\")\n",
    "model.predict(\"C:/Users/Suseel's PC/Downloads/Wrist Dataset/datasets/images/Val/6061_0600776747_01_WRI-R2_M009.png\", save=True, imgsz=320, conf=0.5)"
   ]
  },
  {
   "cell_type": "markdown",
   "metadata": {},
   "source": [
    "Code for Numpy Array Output:\n"
   ]
  },
  {
   "cell_type": "code",
   "execution_count": null,
   "metadata": {},
   "outputs": [],
   "source": [
    "import torch\n",
    "import numpy as np\n",
    "from PIL import Image\n",
    "from ultralytics import YOLO\n",
    "model = YOLO(\"best.pt\")\n",
    "#model2 = torch.hub.load(\"C:/Users/Suseel's PC/Downloads/Wrist Dataset/runs/detect/train21,,/weights\", 'custom', path= \"C:/Users/Suseel's PC/Downloads/Wrist Dataset/runs/detect/train21,,/weights/best.pt\", source='local')\n",
    "results = model.predict(\"C:\\\\Users\\\\Suseel's PC\\\\Downloads\\\\Wrist Dataset\\\\datasets\\\\images\\\\Val\\\\6061_0604221784_03_WRI-R1_M009.png\", imgsz=612, conf=0.5)\n",
    "for i, r in enumerate(results):\n",
    "    # Plot results image\n",
    "    im_bgr = r.plot()  # BGR-order numpy array\n",
    "    im_rgb = Image.fromarray(im_bgr[..., ::-1])  # RGB-order PIL image\n",
    "    im_array = np.asarray(im_rgb)\n",
    "    print(im_array)\n",
    "    r.show()  "
   ]
  }
 ],
 "metadata": {
  "kernelspec": {
   "display_name": "quantum",
   "language": "python",
   "name": "python3"
  },
  "language_info": {
   "codemirror_mode": {
    "name": "ipython",
    "version": 3
   },
   "file_extension": ".py",
   "mimetype": "text/x-python",
   "name": "python",
   "nbconvert_exporter": "python",
   "pygments_lexer": "ipython3",
   "version": "3.12.0"
  }
 },
 "nbformat": 4,
 "nbformat_minor": 2
}
